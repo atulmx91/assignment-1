{
 "cells": [
  {
   "cell_type": "code",
   "execution_count": 1,
   "id": "01c99ead",
   "metadata": {},
   "outputs": [],
   "source": [
    "##1"
   ]
  },
  {
   "cell_type": "code",
   "execution_count": 2,
   "id": "819ae6ad",
   "metadata": {},
   "outputs": [],
   "source": [
    "#values='hello', -87.8,6\n",
    "#expressions= *,-,/,+"
   ]
  },
  {
   "cell_type": "code",
   "execution_count": 3,
   "id": "164d6212",
   "metadata": {},
   "outputs": [],
   "source": [
    "##2"
   ]
  },
  {
   "cell_type": "code",
   "execution_count": 4,
   "id": "a2a9773c",
   "metadata": {},
   "outputs": [],
   "source": [
    "#String is any set of alphabets or just one alphabets which is inside the inverted commas.\n",
    "#Variables are used to denote functions, for example a=\"sun\", here 'a' is a variable and \"sun\" is a string."
   ]
  },
  {
   "cell_type": "code",
   "execution_count": 5,
   "id": "469d6547",
   "metadata": {},
   "outputs": [],
   "source": [
    "##3"
   ]
  },
  {
   "cell_type": "code",
   "execution_count": 7,
   "id": "c329b269",
   "metadata": {},
   "outputs": [],
   "source": [
    "#The three data types are \n",
    "#Sting data type= str\n",
    "#numeric data type= int,float,complex\n",
    "#sequence data type= list,tupple,range\n"
   ]
  },
  {
   "cell_type": "code",
   "execution_count": 8,
   "id": "fff19d39",
   "metadata": {},
   "outputs": [],
   "source": [
    "##4"
   ]
  },
  {
   "cell_type": "code",
   "execution_count": 9,
   "id": "e0a41f4f",
   "metadata": {},
   "outputs": [],
   "source": [
    "#Expressions are made up of mathematical signs, \n",
    "#They perform mathematical, logical and relational operations.\n"
   ]
  },
  {
   "cell_type": "code",
   "execution_count": 10,
   "id": "d768e2b8",
   "metadata": {},
   "outputs": [],
   "source": [
    "##5"
   ]
  },
  {
   "cell_type": "code",
   "execution_count": 11,
   "id": "6ab2d47a",
   "metadata": {},
   "outputs": [],
   "source": [
    "#The major difference between statement and expression is that Statement is a complete line of code \n",
    "#while expression is a section of the code. if you execute a statement it may or may not produce value\n",
    "#but and expression will always produce a value."
   ]
  },
  {
   "cell_type": "code",
   "execution_count": 12,
   "id": "da3a65e7",
   "metadata": {},
   "outputs": [],
   "source": [
    "##6"
   ]
  },
  {
   "cell_type": "code",
   "execution_count": 13,
   "id": "ab294241",
   "metadata": {},
   "outputs": [],
   "source": [
    "#The last value of bacon=23"
   ]
  },
  {
   "cell_type": "code",
   "execution_count": 14,
   "id": "b4d73779",
   "metadata": {},
   "outputs": [],
   "source": [
    "##7"
   ]
  },
  {
   "cell_type": "code",
   "execution_count": 15,
   "id": "5ce6ac1c",
   "metadata": {},
   "outputs": [
    {
     "data": {
      "text/plain": [
       "'spamspamspam'"
      ]
     },
     "execution_count": 15,
     "metadata": {},
     "output_type": "execute_result"
    }
   ],
   "source": [
    "#Both the epxression will have same value\n",
    "'spam'+'spamspam'"
   ]
  },
  {
   "cell_type": "code",
   "execution_count": 16,
   "id": "afd3661d",
   "metadata": {},
   "outputs": [
    {
     "data": {
      "text/plain": [
       "'spamspamspam'"
      ]
     },
     "execution_count": 16,
     "metadata": {},
     "output_type": "execute_result"
    }
   ],
   "source": [
    "'spam'*3"
   ]
  },
  {
   "cell_type": "code",
   "execution_count": 17,
   "id": "43525e99",
   "metadata": {},
   "outputs": [],
   "source": [
    "##8"
   ]
  },
  {
   "cell_type": "code",
   "execution_count": 18,
   "id": "2e818634",
   "metadata": {},
   "outputs": [],
   "source": [
    "#the reason 'eggs' is a valid variable and '100' is not because 'eggs' is a string,\n",
    "#and strings can act as variables to store value in it\n",
    "#while '100' is itself a numeric value , it cannot hold another value in it."
   ]
  },
  {
   "cell_type": "code",
   "execution_count": 19,
   "id": "4fd2edfb",
   "metadata": {},
   "outputs": [],
   "source": [
    "##9"
   ]
  },
  {
   "cell_type": "code",
   "execution_count": 20,
   "id": "fcc4cb4f",
   "metadata": {},
   "outputs": [],
   "source": [
    "#The fuction that be used to get an integer is \"int()\"\n",
    "#The fuction that be used to get a floating point number is \"float()\"\n",
    "#The fuction that be used to get a string verion of a value is \"str()\""
   ]
  },
  {
   "cell_type": "code",
   "execution_count": 21,
   "id": "baa99a71",
   "metadata": {},
   "outputs": [],
   "source": [
    "#float() example\n",
    "a=10"
   ]
  },
  {
   "cell_type": "code",
   "execution_count": 27,
   "id": "56d041b4",
   "metadata": {},
   "outputs": [],
   "source": [
    "f=float(a)"
   ]
  },
  {
   "cell_type": "code",
   "execution_count": 28,
   "id": "74d38dfd",
   "metadata": {},
   "outputs": [
    {
     "name": "stdout",
     "output_type": "stream",
     "text": [
      "<class 'float'>\n",
      "10.0\n"
     ]
    }
   ],
   "source": [
    "print(type(f))\n",
    "print(f)"
   ]
  },
  {
   "cell_type": "code",
   "execution_count": 29,
   "id": "7ed74a1c",
   "metadata": {},
   "outputs": [],
   "source": [
    "#str() exmaple\n",
    "s=str(a)"
   ]
  },
  {
   "cell_type": "code",
   "execution_count": 38,
   "id": "98ff69b0",
   "metadata": {},
   "outputs": [
    {
     "name": "stdout",
     "output_type": "stream",
     "text": [
      "<class 'str'>\n",
      "10\n"
     ]
    }
   ],
   "source": [
    "print(type(s))\n",
    "print(s)"
   ]
  },
  {
   "cell_type": "code",
   "execution_count": 40,
   "id": "8a42cad8",
   "metadata": {},
   "outputs": [],
   "source": [
    "#int() example\n",
    "c=23.2"
   ]
  },
  {
   "cell_type": "code",
   "execution_count": 45,
   "id": "e2efcd13",
   "metadata": {},
   "outputs": [],
   "source": [
    "i=int(c)"
   ]
  },
  {
   "cell_type": "code",
   "execution_count": 46,
   "id": "771e9872",
   "metadata": {},
   "outputs": [
    {
     "name": "stdout",
     "output_type": "stream",
     "text": [
      "<class 'int'>\n",
      "23\n"
     ]
    }
   ],
   "source": [
    "print(type(i))\n",
    "print(i)"
   ]
  },
  {
   "cell_type": "code",
   "execution_count": 47,
   "id": "8d054f62",
   "metadata": {},
   "outputs": [],
   "source": [
    "##10"
   ]
  },
  {
   "cell_type": "code",
   "execution_count": 48,
   "id": "939f3b07",
   "metadata": {},
   "outputs": [],
   "source": [
    "#The expression \"'i have eaten'+99+'burritos'\" gives an error because of the '+' sign which is an expression\n",
    "# and 99 is numeric value so compiler thinks here we have to perform addition operation instead of concatination.\n",
    "#To fix the error we can convert '99' to string using 'str()'' "
   ]
  },
  {
   "cell_type": "code",
   "execution_count": 55,
   "id": "a8dab72f",
   "metadata": {},
   "outputs": [
    {
     "data": {
      "text/plain": [
       "'i have eaten 99 burritos.'"
      ]
     },
     "execution_count": 55,
     "metadata": {},
     "output_type": "execute_result"
    }
   ],
   "source": [
    "s=str(99)\n",
    "'i have eaten '+ s +' burritos.'"
   ]
  },
  {
   "cell_type": "code",
   "execution_count": null,
   "id": "4ef36268",
   "metadata": {},
   "outputs": [],
   "source": []
  }
 ],
 "metadata": {
  "kernelspec": {
   "display_name": "Python 3 (ipykernel)",
   "language": "python",
   "name": "python3"
  },
  "language_info": {
   "codemirror_mode": {
    "name": "ipython",
    "version": 3
   },
   "file_extension": ".py",
   "mimetype": "text/x-python",
   "name": "python",
   "nbconvert_exporter": "python",
   "pygments_lexer": "ipython3",
   "version": "3.9.12"
  }
 },
 "nbformat": 4,
 "nbformat_minor": 5
}
